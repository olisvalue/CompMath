{
 "cells": [
  {
   "cell_type": "code",
   "execution_count": 24,
   "id": "4b657ab2",
   "metadata": {},
   "outputs": [],
   "source": [
    "import math"
   ]
  },
  {
   "cell_type": "code",
   "execution_count": 85,
   "id": "e4465e75",
   "metadata": {},
   "outputs": [],
   "source": [
    "def sigma_m(x, k):\n",
    "    return x**(k) / math.factorial(k) \n",
    "def exp(x, k):\n",
    "    return sum([x**i/math.factorial(i) for i in range(k)]), sigma_m(x, k)"
   ]
  },
  {
   "cell_type": "code",
   "execution_count": 86,
   "id": "c89ab46c",
   "metadata": {},
   "outputs": [
    {
     "name": "stdout",
     "output_type": "stream",
     "text": [
      "calculated e**14 = 74627.844 +- 56936.306\n",
      "calculated with math: e**14 = 1202604.2841647759\n",
      "actual method error: 1127976\n"
     ]
    }
   ],
   "source": [
    "#calculating e**x with Maclaurin Series of k first terms\n",
    "x, k = 14, 9\n",
    "calc, sigma = exp(x, k)\n",
    "print(f'calculated e**{x:.0f} = {calc:.3f} +- {sigma:.3f}')\n",
    "print(f'calculated with math: e**{x:.0f} = {(math.exp(1))**x}')\n",
    "print(f'actual method error: {(math.exp(1))**x- calc:.0f}')"
   ]
  }
 ],
 "metadata": {
  "kernelspec": {
   "display_name": "Python 3 (ipykernel)",
   "language": "python",
   "name": "python3"
  },
  "language_info": {
   "codemirror_mode": {
    "name": "ipython",
    "version": 3
   },
   "file_extension": ".py",
   "mimetype": "text/x-python",
   "name": "python",
   "nbconvert_exporter": "python",
   "pygments_lexer": "ipython3",
   "version": "3.9.7"
  }
 },
 "nbformat": 4,
 "nbformat_minor": 5
}
