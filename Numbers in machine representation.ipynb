{
 "cells": [
  {
   "cell_type": "markdown",
   "metadata": {},
   "source": [
    "## Типы представления чисел"
   ]
  },
  {
   "cell_type": "markdown",
   "metadata": {},
   "source": [
    "В питоне различают три типа данных: вещественный (float), целый (int) и комплексный(complex)"
   ]
  },
  {
   "cell_type": "code",
   "execution_count": null,
   "metadata": {},
   "outputs": [],
   "source": [
    "print('type of 1.0 is ', type(1.0))\n",
    "print('type of 1 is ', type(1))\n",
    "print('type of 1 + 0j is ', type(complex(1,0)))"
   ]
  },
  {
   "cell_type": "markdown",
   "metadata": {},
   "source": [
    "В python 2 целые числа могли быть представлены двумя типа: int и long. Диапазоны числа типа int ограничивались машинным представление числа в С. Так, если под целое число в С выделяется 4 байта (c 32-битным типом С long), то максимальное целое число, которое можно представить 32 битами с учетом знака равно:"
   ]
  },
  {
   "cell_type": "code",
   "execution_count": 1,
   "metadata": {},
   "outputs": [
    {
     "data": {
      "text/plain": [
       "2147483647"
      ]
     },
     "execution_count": 1,
     "metadata": {},
     "output_type": "execute_result"
    }
   ],
   "source": [
    "2**31 - 1 #учтено, что один бит под знак и неотрицательные числа с нуля"
   ]
  },
  {
   "cell_type": "markdown",
   "metadata": {},
   "source": [
    "Целые числа, которые превышали пределы, представлялись типом long. Максимальное число, которое может быть представлено таким типом, ограничивается, по сути, только размером оперативной памяти, то есть может быть очень и очень большим. Но при этом вычисления с использованием чисел типа long медленнее, чем с использованием типа int. В python 3 не делается явного разделения между этими типа и все целые числа называются int "
   ]
  },
  {
   "cell_type": "code",
   "execution_count": 2,
   "metadata": {},
   "outputs": [
    {
     "data": {
      "text/plain": [
       "19950631168807583848837421626835850838234968318861924548520089498529438830221946631919961684036194597899331129423209124271556491349413781117593785932096323957855730046793794526765246551266059895520550086918193311542508608460618104685509074866089624888090489894838009253941633257850621568309473902556912388065225096643874441046759871626985453222868538161694315775629640762836880760732228535091641476183956381458969463899410840960536267821064621427333394036525565649530603142680234969400335934316651459297773279665775606172582031407994198179607378245683762280037302885487251900834464581454650557929601414833921615734588139257095379769119277800826957735674444123062018757836325502728323789270710373802866393031428133241401624195671690574061419654342324638801248856147305207431992259611796250130992860241708340807605932320161268492288496255841312844061536738951487114256315111089745514203313820202931640957596464756010405845841566072044962867016515061920631004186422275908670900574606417856951911456055068251250406007519842261898059237118054444788072906395242548339221982707404473162376760846613033778706039803413197133493654622700563169937455508241780972810983291314403571877524768509857276937926433221599399876886660808368837838027643282775172273657572744784112294389733810861607423253291974813120197604178281965697475898164531258434135959862784130128185406283476649088690521047580882615823961985770122407044330583075869039319604603404973156583208672105913300903752823415539745394397715257455290510212310947321610753474825740775273986348298498340756937955646638621874569499279016572103701364433135817214311791398222983845847334440270964182851005072927748364550578634501100852987812389473928699540834346158807043959118985815145779177143619698728131459483783202081474982171858011389071228250905826817436220577475921417653715687725614904582904992461028630081535583308130101987675856234343538955409175623400844887526162643568648833519463720377293240094456246923254350400678027273837755376406726898636241037491410966718557050759098100246789880178271925953381282421954028302759408448955014676668389697996886241636313376393903373455801407636741877711055384225739499110186468219696581651485130494222369947714763069155468217682876200362777257723781365331611196811280792669481887201298643660768551639860534602297871557517947385246369446923087894265948217008051120322365496288169035739121368338393591756418733850510970271613915439590991598154654417336311656936031122249937969999226781732358023111862644575299135758175008199839236284615249881088960232244362173771618086357015468484058622329792853875623486556440536962622018963571028812361567512543338303270029097668650568557157505516727518899194129711337690149916181315171544007728650573189557450920330185304847113818315407324053319038462084036421763703911550639789000742853672196280903477974533320468368795868580237952218629120080742819551317948157624448298518461509704888027274721574688131594750409732115080498190455803416826949787141316063210686391511681774304792596709376"
      ]
     },
     "execution_count": 2,
     "metadata": {},
     "output_type": "execute_result"
    }
   ],
   "source": [
    "2**10000"
   ]
  },
  {
   "cell_type": "markdown",
   "metadata": {},
   "source": [
    "Любое вещественное число может быть представлено в виде $x = a\\cdot 10^b$, где а - мантисса, b - экспонента. Например, для числа $123.456$ $a = 0.123456, b = 3$. То есть одно вещественное число может быть представлено двумя целыми. Согласно стандарту IEEE-754, вещественные числа представляются в виде $x = a\\cdot 2^b$ и при хранении вещественного числа в памяти используется 8 байт, из которых под экспоненту отводится 11 бит (1 бит под знак), а под мантиссу 53 бита (1 бит под знак). Соответственно максимальное вещественное число равняется примерно $10^{308}$.\n"
   ]
  },
  {
   "cell_type": "code",
   "execution_count": null,
   "metadata": {},
   "outputs": [],
   "source": [
    "print('type of 10.**308 is ', type(10.**308))\n",
    "10.**308"
   ]
  },
  {
   "cell_type": "code",
   "execution_count": null,
   "metadata": {},
   "outputs": [],
   "source": [
    "print('type of 10.**309 is ', type(10.**309))\n",
    "10.**309"
   ]
  },
  {
   "cell_type": "code",
   "execution_count": null,
   "metadata": {},
   "outputs": [],
   "source": [
    "print('type of 10**309 is ', type(10**309))\n",
    "10**309"
   ]
  },
  {
   "cell_type": "markdown",
   "metadata": {},
   "source": [
    "Особенность,на которую стоит обратить внимание, это представлении вещественного числа в памяти. Рассмотрим следующий пример:"
   ]
  },
  {
   "cell_type": "code",
   "execution_count": null,
   "metadata": {},
   "outputs": [],
   "source": [
    "x = 0.0\n",
    "#while x < 1.:\n",
    "while x != 1.0:\n",
    "    x = x + 0.1\n",
    "    print ('x =%19.17g' % ( x ))"
   ]
  },
  {
   "cell_type": "markdown",
   "metadata": {},
   "source": [
    "Из примера видно, что если условие заменить на x != 1.0, то цикл будет бесконечным, так как x никогда не будет равен ровно 1.0"
   ]
  },
  {
   "cell_type": "markdown",
   "metadata": {},
   "source": [
    "Следующий пример - наглядная демонстрация того, что такое машинный ноль"
   ]
  },
  {
   "cell_type": "code",
   "execution_count": 5,
   "metadata": {},
   "outputs": [
    {
     "name": "stdout",
     "output_type": "stream",
     "text": [
      "cnt =  53\n",
      "1.1102230246251565e-16\n"
     ]
    }
   ],
   "source": [
    "cnt = 0\n",
    "epsilon = 1\n",
    "while 1 + epsilon>1:\n",
    "    epsilon = epsilon/2\n",
    "    cnt += 1\n",
    "print('cnt = ', cnt)\n",
    "print(epsilon)"
   ]
  },
  {
   "cell_type": "markdown",
   "metadata": {},
   "source": [
    "Почему так? Сколько бит выделяется под мантиссу, сколько под показатель степени и знак? Как с этим связано значение cnt?"
   ]
  },
  {
   "cell_type": "markdown",
   "metadata": {},
   "source": [
    "## Ошибки"
   ]
  },
  {
   "cell_type": "markdown",
   "metadata": {},
   "source": [
    "Типы ошибок:\n",
    "1. Ошибка модели\n",
    "2. Ошибка метода\n",
    "3. Ошибка входных данных\n",
    "4. Ошибка округления\n",
    "\n",
    "Пример 1. Ошибка при использовании ньютоновской механики в релятивистском пределе. Уравнения Эйлера и уравнения Н-С для моделирования течений сплошных сред.\n",
    "\n",
    "Пример 2. Формула направленной разности для вычисления первой производной, получение для нее ошибки метода (порядок точности метода). Где там может быть ошибка входных данных?\n",
    "\n",
    "На следующем примере продемонстрируем влияние ошибки округления на точность вычислений. Будем численно искать производную."
   ]
  },
  {
   "cell_type": "code",
   "execution_count": null,
   "metadata": {},
   "outputs": [],
   "source": [
    "# Приближенное вычисление производной \n",
    "y = lambda x: x**3.5 # так можно задать функцию одного аргумента f(x) = x**3.5\n",
    "dydx = lambda x: 3.5 * x**2.5\n",
    "x_0 = 2\n",
    "\n",
    "dydx_ex = dydx(x_0)\n",
    "\n",
    "h = 1e-10\n",
    "dydx_ap_1 = (y(x_0 + h) - y(x_0)) / h\n",
    "h = 1e-12\n",
    "dydx_ap_2 = (y(x_0 + h) - y(x_0)) / h\n",
    "# С уменьшением шага ошибка резко увеличивается!\n",
    "print('dydx_ex - dydx_ap_1 =', dydx_ex - dydx_ap_1)\n",
    "print('dydx_ex - dydx_ap_2 =', dydx_ex - dydx_ap_2)"
   ]
  },
  {
   "cell_type": "markdown",
   "metadata": {},
   "source": [
    "Оценка ошибки округления для вычислений производной по формуле направленной разности. Получение оптимального шага дифференцирования в этом случае. \n",
    "\n",
    "$\\tilde f = f(1+\\epsilon)$ - отличие представления числа от его реального значения на машинное эпсилон\n",
    "\n",
    "$f' \\approx \\frac{f_1(1+\\epsilon_1) - f_0(1+\\epsilon_2)}{h}$. Отсюда $\\epsilon_{trunc} \\le \\frac{2\\max(f_0, f_1)\\epsilon}{h}$"
   ]
  },
  {
   "cell_type": "code",
   "execution_count": 3,
   "metadata": {},
   "outputs": [
    {
     "data": {
      "image/png": "[encoded data removed]",
      "text/plain": [
       "<Figure size 432x288 with 1 Axes>"
      ]
     },
     "metadata": {
      "needs_background": "light"
     },
     "output_type": "display_data"
    }
   ],
   "source": [
    "%matplotlib inline\n",
    "import numpy as np\n",
    "from matplotlib import pyplot as plt\n",
    "f = lambda x: np.sin(x)\n",
    "df = lambda x: np.cos(x)\n",
    "\n",
    "x0 = np.pi/4\n",
    "N = 40\n",
    "df_ap = np.zeros(N) \n",
    "h = np.zeros(N)\n",
    "err = np.zeros(N)\n",
    "for k in range(0, N):\n",
    "    h[k] = 1 / 2**k\n",
    "    df_ap[k] = (f(x0 + h[k]) - f(x0 - h[k])) / (2 * h[k])\n",
    "    err[k] = np.abs(df_ap[k] - df(x0))\n",
    "\n",
    "fig = plt.figure()\n",
    "ax = fig.gca()\n",
    "ax.plot(h, err,'.-')\n",
    "ax.set_yscale('log')\n",
    "ax.set_xscale('log')"
   ]
  }
 ],
 "metadata": {
  "anaconda-cloud": {},
  "kernelspec": {
   "display_name": "Python 3 (ipykernel)",
   "language": "python",
   "name": "python3"
  },
  "language_info": {
   "codemirror_mode": {
    "name": "ipython",
    "version": 3
   },
   "file_extension": ".py",
   "mimetype": "text/x-python",
   "name": "python",
   "nbconvert_exporter": "python",
   "pygments_lexer": "ipython3",
   "version": "3.9.7"
  }
 },
 "nbformat": 4,
 "nbformat_minor": 2
}
