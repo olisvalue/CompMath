{
 "cells": [
  {
   "cell_type": "code",
   "execution_count": 10,
   "id": "5d67bef1",
   "metadata": {},
   "outputs": [],
   "source": [
    "import numpy as np"
   ]
  },
  {
   "cell_type": "code",
   "execution_count": 9,
   "id": "e79f3638",
   "metadata": {},
   "outputs": [],
   "source": [
    "def equ(x):\n",
    "    return x**2 + np.sqrt(x)"
   ]
  },
  {
   "cell_type": "code",
   "execution_count": 12,
   "id": "b2c74b90",
   "metadata": {},
   "outputs": [
    {
     "name": "stdout",
     "output_type": "stream",
     "text": [
      "18\n"
     ]
    }
   ],
   "source": [
    "C = input()\n",
    "C = int(C)"
   ]
  },
  {
   "cell_type": "code",
   "execution_count": 13,
   "id": "4fb6fdea",
   "metadata": {},
   "outputs": [
    {
     "name": "stdout",
     "output_type": "stream",
     "text": [
      "4.000000000000001\n"
     ]
    }
   ],
   "source": [
    "x_left = 0\n",
    "x_right = C\n",
    "while (x_right > x_left):\n",
    "    m = (x_left + x_right)/2\n",
    "    if (m == x_right or m == x_left):\n",
    "        break\n",
    "    if equ(m) - C > 0:\n",
    "        x_right = m\n",
    "    else:\n",
    "        x_left = m\n",
    "print(x_right)"
   ]
  }
 ],
 "metadata": {
  "kernelspec": {
   "display_name": "Python 3 (ipykernel)",
   "language": "python",
   "name": "python3"
  },
  "language_info": {
   "codemirror_mode": {
    "name": "ipython",
    "version": 3
   },
   "file_extension": ".py",
   "mimetype": "text/x-python",
   "name": "python",
   "nbconvert_exporter": "python",
   "pygments_lexer": "ipython3",
   "version": "3.9.7"
  }
 },
 "nbformat": 4,
 "nbformat_minor": 5
}
